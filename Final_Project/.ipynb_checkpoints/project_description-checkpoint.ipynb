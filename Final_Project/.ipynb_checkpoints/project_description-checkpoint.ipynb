{
 "cells": [
  {
   "cell_type": "markdown",
   "metadata": {},
   "source": [
    "## Fire Image Classification\n",
    "\n",
    "- Download this dataset -> https://github.com/cair/Fire-Detection-Image-Dataset\n",
    "\n",
    "- Create a dataframe like this for each folder -> Assign label 1 for fire images and label 0 for normal images\n",
    "\n",
    "<img src=\"sample_df.png\" width=\"600\" height=\"600\">\n",
    "\n",
    "- Merge dataframes -> then save the total df as a csv file\n",
    "\n",
    "- Train a CNN + MLP model while using `.fit_generator` way (Do remember to Resize all images)"
   ]
  },
  {
   "cell_type": "markdown",
   "metadata": {},
   "source": [
    "## To make the model better:\n",
    "\n",
    "- Upsample minority class (fire images) -> https://elitedatascience.com/imbalanced-classes?_ga=2.44533796.1624997989.1593199508-1623274989.1547664151\n",
    "\n",
    "- Do Data Augmentation for each image \n",
    "\n",
    "- Hyper-parameters tuning"
   ]
  },
  {
   "cell_type": "code",
   "execution_count": 1,
   "metadata": {},
   "outputs": [
    {
     "name": "stdout",
     "output_type": "stream",
     "text": [
      "/Users/alannanoguchi/dev/DS/DS2.2/DS-2.2-Deep-Learning/Final_Project/images\n"
     ]
    }
   ],
   "source": [
    "%cd images"
   ]
  },
  {
   "cell_type": "code",
   "execution_count": 34,
   "metadata": {},
   "outputs": [],
   "source": [
    "import glob\n",
    "import pandas as pd\n",
    "import os\n",
    "from sklearn.model_selection import train_test_split\n",
    "from PIL import Image\n",
    "from keras.preprocessing.image import img_to_array\n",
    "import numpy as np\n",
    "from keras.models import Sequential\n",
    "from keras.utils import np_utils\n",
    "from keras.layers.core import Dense, Activation\n",
    "from keras.layers import Input, Conv2D, MaxPooling2D, Flatten, Dropout\n",
    "from keras.preprocessing.image import ImageDataGenerator"
   ]
  },
  {
   "cell_type": "code",
   "execution_count": 35,
   "metadata": {},
   "outputs": [],
   "source": [
    "files = glob.glob(\"Fire_images/*.*\")\n",
    "ls_fire = []\n",
    "for filepath in files:\n",
    "    ls_fire.append(['Fire_images', os.path.basename(filepath), '1'])"
   ]
  },
  {
   "cell_type": "code",
   "execution_count": 36,
   "metadata": {
    "scrolled": false
   },
   "outputs": [],
   "source": [
    "files = glob.glob(\"Normal_images/*.*\")\n",
    "ls_normal = []\n",
    "for filepath in files:\n",
    "    ls_normal.append(['Normal_images', os.path.basename(filepath), '0'])"
   ]
  },
  {
   "cell_type": "code",
   "execution_count": 37,
   "metadata": {},
   "outputs": [],
   "source": [
    "df_fire = pd.DataFrame(ls_fire, columns=['Folder', 'filename', 'label'])"
   ]
  },
  {
   "cell_type": "code",
   "execution_count": 38,
   "metadata": {},
   "outputs": [],
   "source": [
    "df_normal = pd.DataFrame(ls_normal, columns=['Folder', 'filename', 'label'])"
   ]
  },
  {
   "cell_type": "code",
   "execution_count": 39,
   "metadata": {},
   "outputs": [
    {
     "data": {
      "text/html": [
       "<div>\n",
       "<style scoped>\n",
       "    .dataframe tbody tr th:only-of-type {\n",
       "        vertical-align: middle;\n",
       "    }\n",
       "\n",
       "    .dataframe tbody tr th {\n",
       "        vertical-align: top;\n",
       "    }\n",
       "\n",
       "    .dataframe thead th {\n",
       "        text-align: right;\n",
       "    }\n",
       "</style>\n",
       "<table border=\"1\" class=\"dataframe\">\n",
       "  <thead>\n",
       "    <tr style=\"text-align: right;\">\n",
       "      <th></th>\n",
       "      <th>Folder</th>\n",
       "      <th>filename</th>\n",
       "      <th>label</th>\n",
       "    </tr>\n",
       "  </thead>\n",
       "  <tbody>\n",
       "    <tr>\n",
       "      <td>0</td>\n",
       "      <td>Fire_images</td>\n",
       "      <td>dsc_01001.jpg</td>\n",
       "      <td>1</td>\n",
       "    </tr>\n",
       "    <tr>\n",
       "      <td>1</td>\n",
       "      <td>Fire_images</td>\n",
       "      <td>burning-charcoal-briquettes.jpg</td>\n",
       "      <td>1</td>\n",
       "    </tr>\n",
       "    <tr>\n",
       "      <td>2</td>\n",
       "      <td>Fire_images</td>\n",
       "      <td>Chimney-Fire3.jpg</td>\n",
       "      <td>1</td>\n",
       "    </tr>\n",
       "    <tr>\n",
       "      <td>3</td>\n",
       "      <td>Fire_images</td>\n",
       "      <td>canada-wildfire.jpg</td>\n",
       "      <td>1</td>\n",
       "    </tr>\n",
       "    <tr>\n",
       "      <td>4</td>\n",
       "      <td>Fire_images</td>\n",
       "      <td>Living_Room_Camp_Fire.jpg</td>\n",
       "      <td>1</td>\n",
       "    </tr>\n",
       "  </tbody>\n",
       "</table>\n",
       "</div>"
      ],
      "text/plain": [
       "        Folder                         filename label\n",
       "0  Fire_images                    dsc_01001.jpg     1\n",
       "1  Fire_images  burning-charcoal-briquettes.jpg     1\n",
       "2  Fire_images                Chimney-Fire3.jpg     1\n",
       "3  Fire_images              canada-wildfire.jpg     1\n",
       "4  Fire_images        Living_Room_Camp_Fire.jpg     1"
      ]
     },
     "execution_count": 39,
     "metadata": {},
     "output_type": "execute_result"
    }
   ],
   "source": [
    "df_fire.head()"
   ]
  },
  {
   "cell_type": "code",
   "execution_count": 40,
   "metadata": {
    "scrolled": true
   },
   "outputs": [
    {
     "data": {
      "text/html": [
       "<div>\n",
       "<style scoped>\n",
       "    .dataframe tbody tr th:only-of-type {\n",
       "        vertical-align: middle;\n",
       "    }\n",
       "\n",
       "    .dataframe tbody tr th {\n",
       "        vertical-align: top;\n",
       "    }\n",
       "\n",
       "    .dataframe thead th {\n",
       "        text-align: right;\n",
       "    }\n",
       "</style>\n",
       "<table border=\"1\" class=\"dataframe\">\n",
       "  <thead>\n",
       "    <tr style=\"text-align: right;\">\n",
       "      <th></th>\n",
       "      <th>Folder</th>\n",
       "      <th>filename</th>\n",
       "      <th>label</th>\n",
       "    </tr>\n",
       "  </thead>\n",
       "  <tbody>\n",
       "    <tr>\n",
       "      <td>0</td>\n",
       "      <td>Normal_images</td>\n",
       "      <td>1526t.jpg</td>\n",
       "      <td>0</td>\n",
       "    </tr>\n",
       "    <tr>\n",
       "      <td>1</td>\n",
       "      <td>Normal_images</td>\n",
       "      <td>theoffice3.jpg</td>\n",
       "      <td>0</td>\n",
       "    </tr>\n",
       "    <tr>\n",
       "      <td>2</td>\n",
       "      <td>Normal_images</td>\n",
       "      <td>23e90181fcef550cffae7c4ff77e566d.jpg</td>\n",
       "      <td>0</td>\n",
       "    </tr>\n",
       "    <tr>\n",
       "      <td>3</td>\n",
       "      <td>Normal_images</td>\n",
       "      <td>tumblr_nhcrcizCaH1ty53xvo1_1280.jpg</td>\n",
       "      <td>0</td>\n",
       "    </tr>\n",
       "    <tr>\n",
       "      <td>4</td>\n",
       "      <td>Normal_images</td>\n",
       "      <td>day7_8.jpg</td>\n",
       "      <td>0</td>\n",
       "    </tr>\n",
       "  </tbody>\n",
       "</table>\n",
       "</div>"
      ],
      "text/plain": [
       "          Folder                              filename label\n",
       "0  Normal_images                             1526t.jpg     0\n",
       "1  Normal_images                        theoffice3.jpg     0\n",
       "2  Normal_images  23e90181fcef550cffae7c4ff77e566d.jpg     0\n",
       "3  Normal_images   tumblr_nhcrcizCaH1ty53xvo1_1280.jpg     0\n",
       "4  Normal_images                            day7_8.jpg     0"
      ]
     },
     "execution_count": 40,
     "metadata": {},
     "output_type": "execute_result"
    }
   ],
   "source": [
    "df_normal.head()"
   ]
  },
  {
   "cell_type": "code",
   "execution_count": 41,
   "metadata": {},
   "outputs": [
    {
     "data": {
      "text/html": [
       "<div>\n",
       "<style scoped>\n",
       "    .dataframe tbody tr th:only-of-type {\n",
       "        vertical-align: middle;\n",
       "    }\n",
       "\n",
       "    .dataframe tbody tr th {\n",
       "        vertical-align: top;\n",
       "    }\n",
       "\n",
       "    .dataframe thead th {\n",
       "        text-align: right;\n",
       "    }\n",
       "</style>\n",
       "<table border=\"1\" class=\"dataframe\">\n",
       "  <thead>\n",
       "    <tr style=\"text-align: right;\">\n",
       "      <th></th>\n",
       "      <th>Folder</th>\n",
       "      <th>filename</th>\n",
       "      <th>label</th>\n",
       "    </tr>\n",
       "  </thead>\n",
       "  <tbody>\n",
       "    <tr>\n",
       "      <td>0</td>\n",
       "      <td>Fire_images</td>\n",
       "      <td>dsc_01001.jpg</td>\n",
       "      <td>1</td>\n",
       "    </tr>\n",
       "    <tr>\n",
       "      <td>1</td>\n",
       "      <td>Fire_images</td>\n",
       "      <td>burning-charcoal-briquettes.jpg</td>\n",
       "      <td>1</td>\n",
       "    </tr>\n",
       "    <tr>\n",
       "      <td>2</td>\n",
       "      <td>Fire_images</td>\n",
       "      <td>Chimney-Fire3.jpg</td>\n",
       "      <td>1</td>\n",
       "    </tr>\n",
       "    <tr>\n",
       "      <td>3</td>\n",
       "      <td>Fire_images</td>\n",
       "      <td>canada-wildfire.jpg</td>\n",
       "      <td>1</td>\n",
       "    </tr>\n",
       "    <tr>\n",
       "      <td>4</td>\n",
       "      <td>Fire_images</td>\n",
       "      <td>Living_Room_Camp_Fire.jpg</td>\n",
       "      <td>1</td>\n",
       "    </tr>\n",
       "    <tr>\n",
       "      <td>...</td>\n",
       "      <td>...</td>\n",
       "      <td>...</td>\n",
       "      <td>...</td>\n",
       "    </tr>\n",
       "    <tr>\n",
       "      <td>639</td>\n",
       "      <td>Normal_images</td>\n",
       "      <td>norway.jpg</td>\n",
       "      <td>0</td>\n",
       "    </tr>\n",
       "    <tr>\n",
       "      <td>640</td>\n",
       "      <td>Normal_images</td>\n",
       "      <td>AAEAAQAAAAAAAAJqAAAAJDAwNDUwNDAwLWUwYTAtNDlmNy...</td>\n",
       "      <td>0</td>\n",
       "    </tr>\n",
       "    <tr>\n",
       "      <td>641</td>\n",
       "      <td>Normal_images</td>\n",
       "      <td>open-offices.jpg</td>\n",
       "      <td>0</td>\n",
       "    </tr>\n",
       "    <tr>\n",
       "      <td>642</td>\n",
       "      <td>Normal_images</td>\n",
       "      <td>norway-old-bergen-museum.jpg</td>\n",
       "      <td>0</td>\n",
       "    </tr>\n",
       "    <tr>\n",
       "      <td>643</td>\n",
       "      <td>Normal_images</td>\n",
       "      <td>romantic-bedrooms-bedrooms-and-red-color-schem...</td>\n",
       "      <td>0</td>\n",
       "    </tr>\n",
       "  </tbody>\n",
       "</table>\n",
       "<p>644 rows × 3 columns</p>\n",
       "</div>"
      ],
      "text/plain": [
       "            Folder                                           filename label\n",
       "0      Fire_images                                      dsc_01001.jpg     1\n",
       "1      Fire_images                    burning-charcoal-briquettes.jpg     1\n",
       "2      Fire_images                                  Chimney-Fire3.jpg     1\n",
       "3      Fire_images                                canada-wildfire.jpg     1\n",
       "4      Fire_images                          Living_Room_Camp_Fire.jpg     1\n",
       "..             ...                                                ...   ...\n",
       "639  Normal_images                                         norway.jpg     0\n",
       "640  Normal_images  AAEAAQAAAAAAAAJqAAAAJDAwNDUwNDAwLWUwYTAtNDlmNy...     0\n",
       "641  Normal_images                                   open-offices.jpg     0\n",
       "642  Normal_images                       norway-old-bergen-museum.jpg     0\n",
       "643  Normal_images  romantic-bedrooms-bedrooms-and-red-color-schem...     0\n",
       "\n",
       "[644 rows x 3 columns]"
      ]
     },
     "execution_count": 41,
     "metadata": {},
     "output_type": "execute_result"
    }
   ],
   "source": [
    "df = pd.concat([df_fire, df_normal]).reset_index().drop('index', axis=1) # combining the dataframes\n",
    "df"
   ]
  },
  {
   "cell_type": "code",
   "execution_count": 42,
   "metadata": {},
   "outputs": [],
   "source": [
    "# split into train and test\n",
    "df_train, df_test = train_test_split(df, test_size=0.2, random_state=0)"
   ]
  },
  {
   "cell_type": "code",
   "execution_count": 43,
   "metadata": {},
   "outputs": [
    {
     "name": "stdout",
     "output_type": "stream",
     "text": [
      "(558, 320)\n"
     ]
    }
   ],
   "source": [
    "img = Image.open(os.path.join(df['Folder'][640], df['filename'][640]))\n",
    "print(img.size)\n",
    "image_red = img.resize((1024, 1024))   # resizes all images to 1024x1024\n",
    "image = img_to_array(image_red)     # takes image object and converts to numpy nums"
   ]
  },
  {
   "cell_type": "code",
   "execution_count": 44,
   "metadata": {},
   "outputs": [
    {
     "data": {
      "text/plain": [
       "array([[[117., 122., 125.],\n",
       "        [117., 122., 125.],\n",
       "        [118., 123., 126.],\n",
       "        ...,\n",
       "        [ 79.,  80.,  72.],\n",
       "        [ 80.,  81.,  73.],\n",
       "        [ 80.,  81.,  73.]],\n",
       "\n",
       "       [[117., 122., 125.],\n",
       "        [117., 122., 125.],\n",
       "        [118., 123., 126.],\n",
       "        ...,\n",
       "        [ 79.,  80.,  72.],\n",
       "        [ 80.,  81.,  73.],\n",
       "        [ 80.,  81.,  73.]],\n",
       "\n",
       "       [[117., 122., 125.],\n",
       "        [117., 122., 125.],\n",
       "        [118., 123., 126.],\n",
       "        ...,\n",
       "        [ 79.,  80.,  72.],\n",
       "        [ 80.,  81.,  73.],\n",
       "        [ 80.,  81.,  73.]],\n",
       "\n",
       "       ...,\n",
       "\n",
       "       [[ 61.,  60.,  66.],\n",
       "        [ 61.,  60.,  66.],\n",
       "        [ 51.,  50.,  56.],\n",
       "        ...,\n",
       "        [ 15.,  15.,  15.],\n",
       "        [ 14.,  14.,  14.],\n",
       "        [ 14.,  14.,  14.]],\n",
       "\n",
       "       [[ 61.,  60.,  66.],\n",
       "        [ 61.,  60.,  66.],\n",
       "        [ 51.,  50.,  56.],\n",
       "        ...,\n",
       "        [ 15.,  15.,  15.],\n",
       "        [ 14.,  14.,  14.],\n",
       "        [ 14.,  14.,  14.]],\n",
       "\n",
       "       [[ 61.,  60.,  66.],\n",
       "        [ 61.,  60.,  66.],\n",
       "        [ 51.,  50.,  56.],\n",
       "        ...,\n",
       "        [ 15.,  15.,  15.],\n",
       "        [ 14.,  14.,  14.],\n",
       "        [ 14.,  14.,  14.]]], dtype=float32)"
      ]
     },
     "execution_count": 44,
     "metadata": {},
     "output_type": "execute_result"
    }
   ],
   "source": [
    "# Check that image is an array\n",
    "image"
   ]
  },
  {
   "cell_type": "code",
   "execution_count": 45,
   "metadata": {},
   "outputs": [
    {
     "data": {
      "text/plain": [
       "(1024, 1024)"
      ]
     },
     "execution_count": 45,
     "metadata": {},
     "output_type": "execute_result"
    }
   ],
   "source": [
    "# check image is resized\n",
    "image_red.size"
   ]
  },
  {
   "cell_type": "code",
   "execution_count": 46,
   "metadata": {},
   "outputs": [
    {
     "data": {
      "text/plain": [
       "(1024, 1024, 3)"
      ]
     },
     "execution_count": 46,
     "metadata": {},
     "output_type": "execute_result"
    }
   ],
   "source": [
    "# check image shape\n",
    "image.shape"
   ]
  },
  {
   "cell_type": "markdown",
   "metadata": {},
   "source": [
    "## Merge the two DataFrames (fire and normal)"
   ]
  },
  {
   "cell_type": "code",
   "execution_count": 49,
   "metadata": {},
   "outputs": [],
   "source": [
    "def data_gen(df, batch_size):\n",
    "    \n",
    "    while True:\n",
    "        x_batch = np.zeros((batch_size, 1024, 1024, 3))\n",
    "        y_batch = np.zeros((batch_size, 1))\n",
    "\n",
    "\n",
    "        # Run through each chunk\n",
    "        for chunk_index in range(len(df)//batch_size):\n",
    "            start_chunk_index = chunk_index*batch_size\n",
    "            end_chunk_index = (chunk_index+1)*batch_size\n",
    "\n",
    "#             print(f'Chunk index: {chunk_index}' )\n",
    "\n",
    "            i = 0\n",
    "            for folder, filename, label in zip(df['Folder'].values[start_chunk_index:end_chunk_index], df['filename'].values[start_chunk_index:end_chunk_index], df['label'].values[start_chunk_index:end_chunk_index]):\n",
    "#                 print(f'Looking at folder: {folder}, filename:{filename}, label:{label}')\n",
    "                img = Image.open(os.path.join(folder, filename))\n",
    "                image_red = img.resize((1024, 1024))\n",
    "                try:\n",
    "                    x_batch[i] = img_to_array(image_red)\n",
    "                except:\n",
    "                    print(f'this file is currupted: {os.path.join(folder, filename)}')\n",
    "                    os.remove(os.path.join(folder, filename))\n",
    "\n",
    "                y_batch[i] = label\n",
    "                i += 1\n",
    "\n",
    "\n",
    "            yield x_batch, np_utils.to_categorical(y_batch, 2)     # 2 for the number of classes we have\n",
    "        "
   ]
  },
  {
   "cell_type": "code",
   "execution_count": 30,
   "metadata": {},
   "outputs": [
    {
     "data": {
      "text/plain": [
       "0                                          dsc_01001.jpg\n",
       "1                        burning-charcoal-briquettes.jpg\n",
       "2                                      Chimney-Fire3.jpg\n",
       "3                                    canada-wildfire.jpg\n",
       "4                              Living_Room_Camp_Fire.jpg\n",
       "                             ...                        \n",
       "639                                           norway.jpg\n",
       "640    AAEAAQAAAAAAAAJqAAAAJDAwNDUwNDAwLWUwYTAtNDlmNy...\n",
       "641                                     open-offices.jpg\n",
       "642                         norway-old-bergen-museum.jpg\n",
       "643    romantic-bedrooms-bedrooms-and-red-color-schem...\n",
       "Name: filename, Length: 644, dtype: object"
      ]
     },
     "execution_count": 30,
     "metadata": {},
     "output_type": "execute_result"
    }
   ],
   "source": [
    "df['filename']"
   ]
  },
  {
   "cell_type": "markdown",
   "metadata": {},
   "source": [
    " # Define the model"
   ]
  },
  {
   "cell_type": "code",
   "execution_count": 22,
   "metadata": {},
   "outputs": [],
   "source": [
    "model = Sequential()\n",
    "\n",
    "model.add(Conv2D(32, kernel_size=(3, 3),   \n",
    "                 activation='relu',\n",
    "                 input_shape=(1024, 1024, 3)))\n",
    "\n",
    "model.add(Conv2D(32, kernel_size=(3,3), activation='relu'))  \n",
    "model.add(MaxPooling2D(pool_size=(2, 2)))\n",
    "model.add(Dropout(0.5))\n",
    "model.add(Flatten())\n",
    "model.add(Dense(64, activation='relu'))\n",
    "model.add(Dropout(0.5))\n",
    "model.add(Dense(2, activation='sigmoid'))\n",
    "\n",
    "# compile the model, this is necessary before fitting\n",
    "model.compile(loss='binary_crossentropy',\n",
    "             optimizer='adam',\n",
    "             metrics = ['accuracy'])"
   ]
  },
  {
   "cell_type": "markdown",
   "metadata": {},
   "source": [
    "# Train the model while using `.fit_generator`"
   ]
  },
  {
   "cell_type": "code",
   "execution_count": 24,
   "metadata": {},
   "outputs": [
    {
     "name": "stdout",
     "output_type": "stream",
     "text": [
      "Epoch 1/2\n",
      "10/10 [==============================] - 2707s 271s/step - loss: 4.3212 - accuracy: 0.7310\n",
      "Epoch 2/2\n",
      "10/10 [==============================] - 2351s 235s/step - loss: 4.2565 - accuracy: 0.7350\n"
     ]
    },
    {
     "data": {
      "text/plain": [
       "<keras.callbacks.callbacks.History at 0x7f8c7748c4d0>"
      ]
     },
     "execution_count": 24,
     "metadata": {},
     "output_type": "execute_result"
    }
   ],
   "source": [
    "batch_size = 50\n",
    "model.fit_generator(generator=data_gen(df_train, batch_size=batch_size), steps_per_epoch=len(df_train) // batch_size, epochs=2, verbose=1)"
   ]
  },
  {
   "cell_type": "markdown",
   "metadata": {},
   "source": [
    "## Accuracy is 73.5 with a loss of 4.26 ( not that great )"
   ]
  },
  {
   "cell_type": "code",
   "execution_count": 25,
   "metadata": {
    "scrolled": false
   },
   "outputs": [
    {
     "name": "stdout",
     "output_type": "stream",
     "text": [
      "Model: \"sequential_5\"\n",
      "_________________________________________________________________\n",
      "Layer (type)                 Output Shape              Param #   \n",
      "=================================================================\n",
      "conv2d_9 (Conv2D)            (None, 1022, 1022, 32)    896       \n",
      "_________________________________________________________________\n",
      "conv2d_10 (Conv2D)           (None, 1020, 1020, 32)    9248      \n",
      "_________________________________________________________________\n",
      "max_pooling2d_5 (MaxPooling2 (None, 510, 510, 32)      0         \n",
      "_________________________________________________________________\n",
      "dropout_9 (Dropout)          (None, 510, 510, 32)      0         \n",
      "_________________________________________________________________\n",
      "flatten_5 (Flatten)          (None, 8323200)           0         \n",
      "_________________________________________________________________\n",
      "dense_9 (Dense)              (None, 64)                532684864 \n",
      "_________________________________________________________________\n",
      "dropout_10 (Dropout)         (None, 64)                0         \n",
      "_________________________________________________________________\n",
      "dense_10 (Dense)             (None, 2)                 130       \n",
      "=================================================================\n",
      "Total params: 532,695,138\n",
      "Trainable params: 532,695,138\n",
      "Non-trainable params: 0\n",
      "_________________________________________________________________\n"
     ]
    }
   ],
   "source": [
    "model.summary()"
   ]
  },
  {
   "cell_type": "markdown",
   "metadata": {},
   "source": [
    "https://www.pyimagesearch.com/2018/12/24/how-to-use-keras-fit-and-fit_generator-a-hands-on-tutorial/"
   ]
  },
  {
   "cell_type": "markdown",
   "metadata": {},
   "source": [
    "# To improve performance, use data augmentation\n",
    "\n",
    "- Use the training make some transformations on the images\n",
    "    - For example: image rotation, rescaling, horizontal/vertical flip, zooming, etc."
   ]
  },
  {
   "cell_type": "code",
   "execution_count": 47,
   "metadata": {},
   "outputs": [
    {
     "ename": "ValueError",
     "evalue": "could not convert string to float: 'Normal_images'",
     "output_type": "error",
     "traceback": [
      "\u001b[0;31m---------------------------------------------------------------------------\u001b[0m",
      "\u001b[0;31mValueError\u001b[0m                                Traceback (most recent call last)",
      "\u001b[0;32m<ipython-input-47-a848ad6e4dd2>\u001b[0m in \u001b[0;36m<module>\u001b[0;34m\u001b[0m\n\u001b[1;32m      4\u001b[0m                             horizontal_flip = True,)   # randomly flips half of the images horizontally\n\u001b[1;32m      5\u001b[0m \u001b[0;34m\u001b[0m\u001b[0m\n\u001b[0;32m----> 6\u001b[0;31m \u001b[0mtrain_datagen\u001b[0m\u001b[0;34m.\u001b[0m\u001b[0mfit\u001b[0m\u001b[0;34m(\u001b[0m\u001b[0mdf_train\u001b[0m\u001b[0;34m)\u001b[0m\u001b[0;34m\u001b[0m\u001b[0;34m\u001b[0m\u001b[0m\n\u001b[0m",
      "\u001b[0;32m/opt/anaconda3/lib/python3.7/site-packages/keras_preprocessing/image/image_data_generator.py\u001b[0m in \u001b[0;36mfit\u001b[0;34m(self, x, augment, rounds, seed)\u001b[0m\n\u001b[1;32m    924\u001b[0m             \u001b[0mseed\u001b[0m\u001b[0;34m:\u001b[0m \u001b[0mInt\u001b[0m \u001b[0;34m(\u001b[0m\u001b[0mdefault\u001b[0m\u001b[0;34m:\u001b[0m \u001b[0;32mNone\u001b[0m\u001b[0;34m)\u001b[0m\u001b[0;34m.\u001b[0m \u001b[0mRandom\u001b[0m \u001b[0mseed\u001b[0m\u001b[0;34m.\u001b[0m\u001b[0;34m\u001b[0m\u001b[0;34m\u001b[0m\u001b[0m\n\u001b[1;32m    925\u001b[0m        \"\"\"\n\u001b[0;32m--> 926\u001b[0;31m         \u001b[0mx\u001b[0m \u001b[0;34m=\u001b[0m \u001b[0mnp\u001b[0m\u001b[0;34m.\u001b[0m\u001b[0masarray\u001b[0m\u001b[0;34m(\u001b[0m\u001b[0mx\u001b[0m\u001b[0;34m,\u001b[0m \u001b[0mdtype\u001b[0m\u001b[0;34m=\u001b[0m\u001b[0mself\u001b[0m\u001b[0;34m.\u001b[0m\u001b[0mdtype\u001b[0m\u001b[0;34m)\u001b[0m\u001b[0;34m\u001b[0m\u001b[0;34m\u001b[0m\u001b[0m\n\u001b[0m\u001b[1;32m    927\u001b[0m         \u001b[0;32mif\u001b[0m \u001b[0mx\u001b[0m\u001b[0;34m.\u001b[0m\u001b[0mndim\u001b[0m \u001b[0;34m!=\u001b[0m \u001b[0;36m4\u001b[0m\u001b[0;34m:\u001b[0m\u001b[0;34m\u001b[0m\u001b[0;34m\u001b[0m\u001b[0m\n\u001b[1;32m    928\u001b[0m             raise ValueError('Input to `.fit()` should have rank 4. '\n",
      "\u001b[0;32m/opt/anaconda3/lib/python3.7/site-packages/numpy/core/_asarray.py\u001b[0m in \u001b[0;36masarray\u001b[0;34m(a, dtype, order)\u001b[0m\n\u001b[1;32m     83\u001b[0m \u001b[0;34m\u001b[0m\u001b[0m\n\u001b[1;32m     84\u001b[0m     \"\"\"\n\u001b[0;32m---> 85\u001b[0;31m     \u001b[0;32mreturn\u001b[0m \u001b[0marray\u001b[0m\u001b[0;34m(\u001b[0m\u001b[0ma\u001b[0m\u001b[0;34m,\u001b[0m \u001b[0mdtype\u001b[0m\u001b[0;34m,\u001b[0m \u001b[0mcopy\u001b[0m\u001b[0;34m=\u001b[0m\u001b[0;32mFalse\u001b[0m\u001b[0;34m,\u001b[0m \u001b[0morder\u001b[0m\u001b[0;34m=\u001b[0m\u001b[0morder\u001b[0m\u001b[0;34m)\u001b[0m\u001b[0;34m\u001b[0m\u001b[0;34m\u001b[0m\u001b[0m\n\u001b[0m\u001b[1;32m     86\u001b[0m \u001b[0;34m\u001b[0m\u001b[0m\n\u001b[1;32m     87\u001b[0m \u001b[0;34m\u001b[0m\u001b[0m\n",
      "\u001b[0;31mValueError\u001b[0m: could not convert string to float: 'Normal_images'"
     ]
    }
   ],
   "source": [
    "train_datagen = ImageDataGenerator( rotation_range = 30,     # rotation_range randomly rotates images\n",
    "                            width_shift_range = 0.2,   # translates images vertically\n",
    "                            height_shift_range = 0.2,  # translates images horizontally\n",
    "                            horizontal_flip = True,)   # randomly flips half of the images horizontally\n",
    "\n",
    "train_datagen.fit(df_train)"
   ]
  },
  {
   "cell_type": "code",
   "execution_count": null,
   "metadata": {},
   "outputs": [],
   "source": []
  }
 ],
 "metadata": {
  "kernelspec": {
   "display_name": "Python 3",
   "language": "python",
   "name": "python3"
  },
  "language_info": {
   "codemirror_mode": {
    "name": "ipython",
    "version": 3
   },
   "file_extension": ".py",
   "mimetype": "text/x-python",
   "name": "python",
   "nbconvert_exporter": "python",
   "pygments_lexer": "ipython3",
   "version": "3.7.4"
  }
 },
 "nbformat": 4,
 "nbformat_minor": 2
}
