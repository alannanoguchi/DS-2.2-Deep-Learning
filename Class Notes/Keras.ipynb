{
 "cells": [
  {
   "cell_type": "markdown",
   "metadata": {},
   "source": [
    "## Deep Learning Platforms in Python\n",
    "\n",
    "1- Keras\n",
    "\n",
    "2- Tensorflow\n",
    "\n",
    "3- Pytorch\n",
    "\n",
    "4- Caffe\n",
    "\n",
    "5- Theano\n",
    "\n",
    "6- CNTK\n",
    "\n",
    "7- MXNET\n",
    "\n",
    "\n",
    "## Why we use Keras in DS 2.2 ?\n",
    "\n",
    "- A focus on user experience, easy to build and train a deep learning model\n",
    "\n",
    "- Easy to learn and easy to use\n",
    "\n",
    "- Large adoption in the industry and research community\n",
    "\n",
    "- Multi-backend, multi-platform\n",
    "\n",
    "- Easy productization of models\n",
    "\n",
    "\n",
    "<img src = 'https://github.com/Make-School-Courses/DS-2.2-Deep-Learning/raw/master/Notebooks/Images/why_keras.png' width='500' height='500'>"
   ]
  },
  {
   "cell_type": "markdown",
   "metadata": {},
   "source": [
    "Review of Pseudoode for Neural Network:\n",
    "1. Have the training data (x_train, y_train)\n",
    "2. define the hyper-parameters of our model:\n",
    "    - initialize weight(wi, wh) and biases(bi, bh)\n",
    "    - number of iterations (epoch)\n",
    "3. Define the error function (cost function)\n",
    "    - MSE (mean square error used in DS2.1)\n",
    "    - Classification Problem can use:\n",
    "        - binary cross entropy\n",
    "        - categorical cross entropy\n",
    "        \n",
    "for i in range(epoch):\n",
    "    - pass the data in NN\n",
    "    - updates the weights and biases to decrease the error function"
   ]
  },
  {
   "cell_type": "markdown",
   "metadata": {},
   "source": [
    "## Keras has two API Styles\n",
    "\n",
    "### The Sequential API\n",
    "\n",
    "- Dead simple\n",
    "\n",
    "- Only for single-input, single-output, sequential layer stacks\n",
    "\n",
    "- Good for 70+% of use cases\n",
    "\n",
    "<img src = 'https://github.com/Make-School-Courses/DS-2.2-Deep-Learning/raw/master/Notebooks/Images/keras_sequential_api_2.png' width='800' height='800' >\n",
    "\n",
    "### The functional API\n",
    "\n",
    "- Like playing with Lego bricks\n",
    "\n",
    "- Multi-input, multi-output, arbitrary static graph topologies\n",
    "\n",
    "- Good for 95% of use cases\n",
    "\n",
    "- Great if we want to have acess to hidden layers or if we want to do branching\n",
    "\n",
    "<img src = 'https://github.com/Make-School-Courses/DS-2.2-Deep-Learning/raw/master/Notebooks/Images/keras_functional_api_2.png' width='700' height='700' >"
   ]
  },
  {
   "cell_type": "markdown",
   "metadata": {},
   "source": [
    "## Activity: Apply NN with Keras on iris data\n",
    "\n",
    "- Use Sequential API for Keras\n",
    "\n",
    "- Use 70 percent of data for train\n",
    "\n",
    "- Use one-hot encoding for labels with `from keras.utils import np_utils`\n",
    "\n",
    "- Define two layers fully connected network with 16 neurons as hidden layer\n",
    "\n",
    "- Define `categorical_crossentropy` as the loss (cost) function"
   ]
  },
  {
   "cell_type": "code",
   "execution_count": 20,
   "metadata": {},
   "outputs": [
    {
     "name": "stdout",
     "output_type": "stream",
     "text": [
      "Accuracy = 0.98\n"
     ]
    }
   ],
   "source": [
    "from sklearn import datasets\n",
    "from sklearn.model_selection import train_test_split\n",
    "from keras.utils import np_utils\n",
    "from keras.models import Sequential \n",
    "from keras.layers.core import Dense, Activation\n",
    "\n",
    "# importing iris - 4 features in this dataset\n",
    "iris = datasets.load_iris()\n",
    "X, y = iris.data, iris.target\n",
    "\n",
    "# split the data: train 70%, test 30%\n",
    "X_train, X_test, y_train, y_test = train_test_split(X, y, test_size=0.3, random_state=0)\n",
    "\n",
    "y_train_one_hot = np_utils.to_categorical(y_train)\n",
    "y_test_one_hot = np_utils.to_categorical(y_test)\n",
    "\n",
    "\n",
    "# instantiate Sequential model\n",
    "model = Sequential()\n",
    "\n",
    "# define one hidden layer with 16 neurons, input_shape = 4 for 4 features\n",
    "model.add(Dense(16, input_shape=(4,)))\n",
    "model.add(Activation('sigmoid'))\n",
    "\n",
    "# 3 outputs for the 3 types of iris classes --> there should be 3 output neurons\n",
    "model.add(Dense(3))\n",
    "model.add(Activation('softmax'))\n",
    "model.compile(optimizer='adam', loss='categorical_crossentropy', metrics=[\"accuracy\"])\n",
    "model.fit(X_train, y_train_one_hot, epochs=100, batch_size=1, verbose=0);\n",
    "loss, accuracy = model.evaluate(X_test, y_test_one_hot, verbose=0)\n",
    "print(\"Accuracy = {:.2f}\".format(accuracy))"
   ]
  },
  {
   "cell_type": "code",
   "execution_count": 17,
   "metadata": {},
   "outputs": [
    {
     "data": {
      "text/plain": [
       "array([0., 0., 1.], dtype=float32)"
      ]
     },
     "execution_count": 17,
     "metadata": {},
     "output_type": "execute_result"
    }
   ],
   "source": [
    "y_train_one_hot[1]"
   ]
  },
  {
   "cell_type": "code",
   "execution_count": 28,
   "metadata": {},
   "outputs": [
    {
     "data": {
      "text/plain": [
       "array([5.8, 2.8, 5.1, 2.4])"
      ]
     },
     "execution_count": 28,
     "metadata": {},
     "output_type": "execute_result"
    }
   ],
   "source": [
    "X_test[0]"
   ]
  },
  {
   "cell_type": "code",
   "execution_count": 26,
   "metadata": {},
   "outputs": [
    {
     "data": {
      "text/plain": [
       "array([[7.4588655e-07, 1.8208060e-02, 9.8179126e-01]], dtype=float32)"
      ]
     },
     "execution_count": 26,
     "metadata": {},
     "output_type": "execute_result"
    }
   ],
   "source": [
    "import numpy as np\n",
    "\n",
    "# the probability of the true label\n",
    "model.predict(np.array([X_test[0]]))   # the sum of this model.predict will always be 1\n",
    "\n",
    "# [7.4588655e-07, 1.8208060e-02, 9.8179126e-01] --> [probability of class 1, probability of class 2, probability of class 3]"
   ]
  },
  {
   "cell_type": "code",
   "execution_count": 27,
   "metadata": {},
   "outputs": [
    {
     "data": {
      "text/plain": [
       "98.17912600000001"
      ]
     },
     "execution_count": 27,
     "metadata": {},
     "output_type": "execute_result"
    }
   ],
   "source": [
    "# 98%\n",
    "\n",
    "9.8179126e-01*100"
   ]
  },
  {
   "cell_type": "code",
   "execution_count": 23,
   "metadata": {},
   "outputs": [
    {
     "data": {
      "text/plain": [
       "1.000000064158428"
      ]
     },
     "execution_count": 23,
     "metadata": {},
     "output_type": "execute_result"
    }
   ],
   "source": [
    "sum(model.predict(np.array([X_test[0]]))[0])"
   ]
  },
  {
   "cell_type": "code",
   "execution_count": 24,
   "metadata": {},
   "outputs": [
    {
     "data": {
      "text/plain": [
       "array([0., 1., 0.], dtype=float32)"
      ]
     },
     "execution_count": 24,
     "metadata": {},
     "output_type": "execute_result"
    }
   ],
   "source": [
    "# the true label\n",
    "y_train_one_hot[0]"
   ]
  },
  {
   "cell_type": "code",
   "execution_count": 30,
   "metadata": {},
   "outputs": [
    {
     "data": {
      "text/plain": [
       "2"
      ]
     },
     "execution_count": 30,
     "metadata": {},
     "output_type": "execute_result"
    }
   ],
   "source": [
    "y_test[0]    # 2 = class 2"
   ]
  },
  {
   "cell_type": "code",
   "execution_count": 32,
   "metadata": {},
   "outputs": [
    {
     "data": {
      "text/plain": [
       "1"
      ]
     },
     "execution_count": 32,
     "metadata": {},
     "output_type": "execute_result"
    }
   ],
   "source": [
    "y_train[0]"
   ]
  },
  {
   "cell_type": "code",
   "execution_count": 25,
   "metadata": {},
   "outputs": [
    {
     "data": {
      "text/plain": [
       "array([[7.45888542e-07, 1.82080641e-02, 9.81791139e-01],\n",
       "       [5.33477589e-03, 9.83437657e-01, 1.12275472e-02],\n",
       "       [9.97275293e-01, 2.72471714e-03, 9.82724213e-09],\n",
       "       [5.49272499e-06, 6.68600947e-02, 9.33134437e-01],\n",
       "       [9.94595945e-01, 5.40410075e-03, 2.40600038e-08],\n",
       "       [3.63892525e-07, 1.12386895e-02, 9.88760889e-01],\n",
       "       [9.95333850e-01, 4.66620596e-03, 2.10877769e-08],\n",
       "       [2.69492529e-03, 9.57964063e-01, 3.93409804e-02],\n",
       "       [1.69107993e-03, 9.30826128e-01, 6.74827769e-02],\n",
       "       [7.79246865e-03, 9.83786881e-01, 8.42071045e-03],\n",
       "       [4.52484637e-05, 2.42636964e-01, 7.57317722e-01],\n",
       "       [4.12997650e-03, 9.72947657e-01, 2.29223333e-02],\n",
       "       [2.64735543e-03, 9.60251808e-01, 3.71008888e-02],\n",
       "       [1.33323646e-03, 9.00562763e-01, 9.81039852e-02],\n",
       "       [1.49383361e-03, 9.10458744e-01, 8.80474299e-02],\n",
       "       [9.96236384e-01, 3.76361120e-03, 1.39056731e-08],\n",
       "       [1.39593449e-03, 8.98373187e-01, 1.00230798e-01],\n",
       "       [1.87641697e-03, 9.35549557e-01, 6.25740215e-02],\n",
       "       [9.90967810e-01, 9.03217867e-03, 5.26619459e-08],\n",
       "       [9.96316433e-01, 3.68349627e-03, 1.63007901e-08],\n",
       "       [9.06901005e-06, 8.71133134e-02, 9.12877679e-01],\n",
       "       [1.28307752e-03, 8.80749524e-01, 1.17967390e-01],\n",
       "       [9.91220415e-01, 8.77955649e-03, 4.71827875e-08],\n",
       "       [9.90875125e-01, 9.12490953e-03, 5.10373255e-08],\n",
       "       [1.11906884e-04, 3.75059009e-01, 6.24829113e-01],\n",
       "       [9.96772468e-01, 3.22751515e-03, 1.19223627e-08],\n",
       "       [9.92690027e-01, 7.30993645e-03, 4.20316297e-08],\n",
       "       [5.69434743e-03, 9.81308281e-01, 1.29972650e-02],\n",
       "       [1.55466730e-02, 9.80949461e-01, 3.50377732e-03],\n",
       "       [9.91807401e-01, 8.19254201e-03, 4.89971939e-08],\n",
       "       [4.36714035e-05, 2.22008884e-01, 7.77947426e-01],\n",
       "       [1.07325031e-03, 8.51723731e-01, 1.47203118e-01],\n",
       "       [9.95164990e-01, 4.83500957e-03, 2.06210586e-08],\n",
       "       [1.47262806e-04, 4.22848493e-01, 5.77004194e-01],\n",
       "       [1.04322589e-06, 2.28941198e-02, 9.77104843e-01],\n",
       "       [2.50247749e-03, 9.46943700e-01, 5.05538359e-02],\n",
       "       [9.95200634e-01, 4.79929382e-03, 2.16699476e-08],\n",
       "       [7.91497441e-05, 3.19526821e-01, 6.80394053e-01],\n",
       "       [3.22547439e-03, 9.62201118e-01, 3.45734470e-02],\n",
       "       [5.64621808e-03, 9.81398642e-01, 1.29550602e-02],\n",
       "       [7.34193191e-06, 7.67842829e-02, 9.23208356e-01],\n",
       "       [9.94426489e-01, 5.57353627e-03, 2.52520476e-08],\n",
       "       [1.29348737e-05, 1.06335953e-01, 8.93651068e-01],\n",
       "       [9.89578068e-01, 1.04217287e-02, 7.99382036e-08],\n",
       "       [9.95968103e-01, 4.03189193e-03, 1.62177614e-08]], dtype=float32)"
      ]
     },
     "execution_count": 25,
     "metadata": {},
     "output_type": "execute_result"
    }
   ],
   "source": [
    "model.predict(X_test)"
   ]
  },
  {
   "cell_type": "markdown",
   "metadata": {},
   "source": [
    "## Appropriate Loss Function !(very important)!\n",
    "\n",
    "- When we have two class classification problem\n",
    "\n",
    "    - The loss function should be `binary_crossentropy`\n",
    "    - We need one output neuron\n",
    "    - The activation function of last layer would be `sigmoid`\n",
    "    \n",
    " \n",
    "- When we have multi-class classification problem\n",
    "\n",
    "    - The loss function should be `categorical_crossentropy`\n",
    "    - We need N output neuron where N is the number of classes we have\n",
    "    - The activation function of last layer would be `softmax`\n",
    "    \n",
    "    \n",
    "- When we have regression problem\n",
    "\n",
    "    - The loss function should be `mse` or `mae`\n",
    "    - We need one output neuron\n",
    "    - The activation function of last layer can be `linear`"
   ]
  },
  {
   "cell_type": "markdown",
   "metadata": {},
   "source": [
    "## Activity: Apply NN with Keras on iris data with Functional API"
   ]
  },
  {
   "cell_type": "code",
   "execution_count": 37,
   "metadata": {},
   "outputs": [
    {
     "name": "stdout",
     "output_type": "stream",
     "text": [
      "Accuracy = 0.98\n"
     ]
    }
   ],
   "source": [
    "from keras.layers import Input, Dense\n",
    "from keras.models import Model\n",
    "from keras.utils import np_utils\n",
    "from sklearn.preprocessing import LabelEncoder\n",
    "from sklearn import datasets\n",
    "from sklearn.model_selection import train_test_split\n",
    "\n",
    "iris = datasets.load_iris()\n",
    "X, y = iris.data, iris.target\n",
    "\n",
    "X_train, X_test, y_train, y_test = train_test_split(X, y, test_size=0.3, random_state=0)\n",
    "\n",
    "y_train_one_hot = np_utils.to_categorical(y_train)\n",
    "y_test_one_hot = np_utils.to_categorical(y_test)\n",
    "\n",
    "# 4 features\n",
    "inp = Input(shape=(4,))\n",
    "\n",
    "# 16 neurons in hidden layer\n",
    "x = Dense(16, activation = 'sigmoid')(inp)\n",
    "out = Dense(3, activation='softmax')(x)\n",
    "\n",
    "# build the model with inputs at inp and outputs at out\n",
    "predictions = Model(inputs=inp, outputs=out)\n",
    "\n",
    "model.compile(optimizer='adam', loss='categorical_crossentropy', metrics=[\"accuracy\"])\n",
    "model.fit(X_train, y_train_one_hot, epochs=100, batch_size=1, verbose=0);\n",
    "loss, accuracy = model.evaluate(X_test, y_test_one_hot, verbose=0)\n",
    "print(\"Accuracy = {:.2f}\".format(accuracy))"
   ]
  },
  {
   "cell_type": "code",
   "execution_count": null,
   "metadata": {},
   "outputs": [],
   "source": []
  }
 ],
 "metadata": {
  "kernelspec": {
   "display_name": "Python 3",
   "language": "python",
   "name": "python3"
  },
  "language_info": {
   "codemirror_mode": {
    "name": "ipython",
    "version": 3
   },
   "file_extension": ".py",
   "mimetype": "text/x-python",
   "name": "python",
   "nbconvert_exporter": "python",
   "pygments_lexer": "ipython3",
   "version": "3.7.4"
  }
 },
 "nbformat": 4,
 "nbformat_minor": 2
}
