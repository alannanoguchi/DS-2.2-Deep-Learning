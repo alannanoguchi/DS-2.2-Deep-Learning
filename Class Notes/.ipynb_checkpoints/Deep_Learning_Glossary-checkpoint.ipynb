{
 "cells": [
  {
   "cell_type": "markdown",
   "metadata": {},
   "source": [
    "## Deep Learning Glossary\n",
    "\n",
    "We will learn about deep learning components and terminologies"
   ]
  },
  {
   "cell_type": "markdown",
   "metadata": {},
   "source": [
    "### Activation Function\n",
    "\n",
    "- To allow Neural Networks to learn complex decision boundaries \n",
    "\n",
    "- we apply a nonlinear activation function to some of its layers\n",
    "\n",
    "- Commonly used functions include:\n",
    "\n",
    "    - sigmoid, tanh, ReLU (Rectified Linear Unit) and variants of these."
   ]
  },
  {
   "cell_type": "markdown",
   "metadata": {},
   "source": [
    "Imagine x is our feature matrix, then \n",
    "\n",
    "what is x.shape[0]? - the number of samples\n",
    "\n",
    "what is x.shape[1]? - the number of features (columns) we have"
   ]
  },
  {
   "cell_type": "code",
   "execution_count": 2,
   "metadata": {},
   "outputs": [
    {
     "ename": "NameError",
     "evalue": "name 'Sequential' is not defined",
     "output_type": "error",
     "traceback": [
      "\u001b[0;31m---------------------------------------------------------------------------\u001b[0m",
      "\u001b[0;31mNameError\u001b[0m                                 Traceback (most recent call last)",
      "\u001b[0;32m<ipython-input-2-e26fd4b3c246>\u001b[0m in \u001b[0;36m<module>\u001b[0;34m\u001b[0m\n\u001b[0;32m----> 1\u001b[0;31m \u001b[0mmodel\u001b[0m \u001b[0;34m=\u001b[0m \u001b[0mSequential\u001b[0m\u001b[0;34m(\u001b[0m\u001b[0;34m)\u001b[0m\u001b[0;34m\u001b[0m\u001b[0;34m\u001b[0m\u001b[0m\n\u001b[0m\u001b[1;32m      2\u001b[0m \u001b[0mmodel\u001b[0m\u001b[0;34m.\u001b[0m\u001b[0madd\u001b[0m\u001b[0;34m(\u001b[0m\u001b[0mDense\u001b[0m\u001b[0;34m(\u001b[0m\u001b[0;36m1\u001b[0m\u001b[0;34m,\u001b[0m \u001b[0mactivation\u001b[0m\u001b[0;34m=\u001b[0m\u001b[0;34m'sigmoid'\u001b[0m\u001b[0;34m,\u001b[0m \u001b[0minput_dim\u001b[0m\u001b[0;34m=\u001b[0m\u001b[0mx\u001b[0m\u001b[0;34m.\u001b[0m\u001b[0mshape\u001b[0m\u001b[0;34m[\u001b[0m\u001b[0;36m1\u001b[0m\u001b[0;34m]\u001b[0m\u001b[0;34m)\u001b[0m\u001b[0;34m)\u001b[0m\u001b[0;34m\u001b[0m\u001b[0;34m\u001b[0m\u001b[0m\n",
      "\u001b[0;31mNameError\u001b[0m: name 'Sequential' is not defined"
     ]
    }
   ],
   "source": [
    "model = Sequential()\n",
    "model.add(Dense(1, activation='sigmoid', input_dim=x.shape[1]))"
   ]
  },
  {
   "cell_type": "markdown",
   "metadata": {},
   "source": [
    "### Loss Function (Cost Function)\n",
    "\n",
    "- When we build a neural network, the neural network tries to predict the output as close as possible to the actual value\n",
    "\n",
    "\n",
    "- For prediction type problem the cost functions are:\n",
    "\n",
    "    - MSE, MAE, ...\n",
    "    - `model.compile(optimizer='rmsprop', loss='mse')`   --> keras wants to minimize MSE\n",
    "    \n",
    "    \n",
    "- For classification type problem the cost functions are:\n",
    "\n",
    "    - Categorical Cross-Entropy, Binary Cross-Entropy\n",
    "    - `model.compile(optimizer='rmsprop', loss='binary_crossentropy')`\n"
   ]
  },
  {
   "cell_type": "markdown",
   "metadata": {},
   "source": [
    "### Algorithms (or Optimization Methods) to Minimize Error\n",
    "\n",
    "- Gradient Descent (GD): To think of it intuitively, while climbing down a hill you should take small steps and walk down instead of just jumping down at once. Therefore, what we do is, if we start from a point x, we move down a little i.e. delta h, and update our position to x-delta h and we keep doing the same till we reach the bottom\n",
    "\n",
    "\n",
    "- Stochastic gradient descent (SGD)\n",
    "\n",
    "\n",
    "- Learning rate: Both GD and SGD need learning rate to adjust the new weight \n",
    "\n",
    "    - w1_new= w1 - (learning rate)* (derivative of cost function wrt w1)\n",
    "    \n",
    "    - RMSprop, Adagrad, Adadelta, Adam, Adamax, Nadam\n",
    "    \n",
    "    - Check out book pdf Ch. 16 Optimizers\n"
   ]
  },
  {
   "cell_type": "markdown",
   "metadata": {},
   "source": [
    "### Dropout\n",
    "\n",
    "- Dropout is a regularization technique for Neural Networks that prevents overfitting\n",
    "\n",
    "- `model.add(Dropout(0.25))` --> removes 25% of connections from the bottom layer to the next layer\n",
    "\n",
    "<img src = 'https://github.com/Make-School-Courses/DS-2.2-Deep-Learning/raw/master/Notebooks/Images/dropout.png' >"
   ]
  },
  {
   "cell_type": "markdown",
   "metadata": {},
   "source": [
    "### Epoch and Batch\n",
    "\n",
    "- Epoch is when an ENTIRE dataset is passed forward and backward through the neural network\n",
    "\n",
    "    - `model.fit(x, y, epochs=10, validation_data=(x_val, y_val))`\n",
    "    \n",
    "- Batch is number of samples per gradient update\n",
    "\n",
    "    - `model.fit(x, y, batch_size=2, epochs=10)`"
   ]
  },
  {
   "cell_type": "markdown",
   "metadata": {},
   "source": [
    "## Activity: Apply NN with Keras on iris data\n",
    "\n",
    "- Use 100 samples for training and 50 samples for validation\n",
    "\n",
    "- Set the value of epoch to 5 \n",
    "\n",
    "- Change the `batch_size` value from 1 to 100 and plot the accuracy versus batch_size\n",
    "\n",
    "- Change the `verbose` to 0, 1 and 2\n",
    "\n",
    "### Observations:\n",
    "1. Lower batch size better accuracy at the price of a slower computation\n",
    "\n",
    "2. The entire model should be in the for loop, if not then our starting points for the weighs and biases are at good condition"
   ]
  },
  {
   "cell_type": "code",
   "execution_count": 58,
   "metadata": {},
   "outputs": [
    {
     "ename": "IndentationError",
     "evalue": "unexpected indent (<ipython-input-58-d39bd2d59f11>, line 38)",
     "output_type": "error",
     "traceback": [
      "\u001b[0;36m  File \u001b[0;32m\"<ipython-input-58-d39bd2d59f11>\"\u001b[0;36m, line \u001b[0;32m38\u001b[0m\n\u001b[0;31m    accuracies.append(accuracy)\u001b[0m\n\u001b[0m    ^\u001b[0m\n\u001b[0;31mIndentationError\u001b[0m\u001b[0;31m:\u001b[0m unexpected indent\n"
     ]
    }
   ],
   "source": [
    "from sklearn import datasets\n",
    "from sklearn.model_selection import train_test_split\n",
    "from keras.utils import np_utils\n",
    "from keras.models import Sequential \n",
    "from keras.layers.core import Dense, Activation\n",
    "\n",
    "# importing iris - 4 features in this dataset\n",
    "iris = datasets.load_iris()\n",
    "X, y = iris.data, iris.target\n",
    "\n",
    "# split the data: train 70%, test 30%\n",
    "X_train, X_test, y_train, y_test = train_test_split(X, y, test_size=0.3, random_state=0)\n",
    "\n",
    "y_train_one_hot = np_utils.to_categorical(y_train)\n",
    "y_test_one_hot = np_utils.to_categorical(y_test)\n",
    "\n",
    "\n",
    "# instantiate Sequential model\n",
    "model = Sequential()\n",
    "\n",
    "# define one hidden layer with 16 neurons, input_shape = 4 for 4 features\n",
    "model.add(Dense(16, input_shape=(4,)))\n",
    "model.add(Activation('sigmoid'))\n",
    "\n",
    "# 3 outputs for the 3 types of iris classes --> there should be 3 output neurons\n",
    "model.add(Dense(3))\n",
    "model.add(Activation('softmax'))\n",
    "model.compile(optimizer='adam', loss='categorical_crossentropy', metrics=[\"accuracy\"])\n",
    "model.fit(X_train, y_train_one_hot, epochs=100, batch_size=1, verbose=0);\n",
    "loss, accuracy = model.evaluate(X_test, y_test_one_hot, verbose=0)\n",
    "\n"
   ]
  },
  {
   "cell_type": "markdown",
   "metadata": {},
   "source": [
    "## Activity: Apply Lambda Layer in Keras and test how it works\n",
    "\n",
    "- Write a code that takes a array with size 3 and apply a Lambda Layer in Keras to double the arrays elements"
   ]
  },
  {
   "cell_type": "code",
   "execution_count": 59,
   "metadata": {},
   "outputs": [
    {
     "name": "stderr",
     "output_type": "stream",
     "text": [
      "/opt/anaconda3/lib/python3.7/site-packages/ipykernel_launcher.py:12: UserWarning: Update your `Model` call to the Keras 2 API: `Model(inputs=Tensor(\"in..., outputs=Tensor(\"la...)`\n",
      "  if sys.path[0] == '':\n"
     ]
    },
    {
     "name": "stdout",
     "output_type": "stream",
     "text": [
      "[[10. 24.  2.]]\n"
     ]
    }
   ],
   "source": [
    "import warnings\n",
    "warnings.simplefilter(action='ignore', category=FutureWarning)\n",
    "\n",
    "from keras.layers import Lambda, Input\n",
    "from keras.models import Model\n",
    "\n",
    "import numpy as np\n",
    "\n",
    "input = Input(shape=(3,))\n",
    "double = Lambda(lambda x: 2 * x)(input)\n",
    "\n",
    "model = Model(input=input, output=double)\n",
    "model.compile(optimizer='sgd', loss='mse')\n",
    "\n",
    "data = np.array([[5, 12, 1]])    # 10, 24, 2\n",
    "print(model.predict(data))"
   ]
  },
  {
   "cell_type": "markdown",
   "metadata": {},
   "source": [
    "### Batch Normalization\n",
    "\n",
    "- Batch Normalization is a technique that normalizes the data even at hidden layers \n",
    "\n",
    "- `model.add(BatchNormalization())`\n",
    "\n",
    "<img src = 'https://github.com/Make-School-Courses/DS-2.2-Deep-Learning/raw/master/Notebooks/Images/batch_normalization.png' width='600' height ='600'>"
   ]
  },
  {
   "cell_type": "markdown",
   "metadata": {},
   "source": [
    "1. What is activation function? - allows NN to learn complex boundaries\n",
    "\n",
    "\n",
    "2. What is the loss function for two and three class, classification problem? - \n",
    "\n",
    "\n",
    "3. What is optimizer in Keras? - It is the weight updating rule.\n",
    "\n",
    "\n",
    "4. What is dropout? - It reduces the number of connections to prevent overfitting. \n",
    "\n",
    "\n",
    "5. What is Batch Normalization? - "
   ]
  },
  {
   "cell_type": "code",
   "execution_count": null,
   "metadata": {},
   "outputs": [],
   "source": []
  }
 ],
 "metadata": {
  "kernelspec": {
   "display_name": "Python 3",
   "language": "python",
   "name": "python3"
  },
  "language_info": {
   "codemirror_mode": {
    "name": "ipython",
    "version": 3
   },
   "file_extension": ".py",
   "mimetype": "text/x-python",
   "name": "python",
   "nbconvert_exporter": "python",
   "pygments_lexer": "ipython3",
   "version": "3.7.4"
  }
 },
 "nbformat": 4,
 "nbformat_minor": 2
}
